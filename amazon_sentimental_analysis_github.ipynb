{
 "cells": [
  {
   "cell_type": "code",
   "execution_count": 1,
   "metadata": {},
   "outputs": [
    {
     "name": "stderr",
     "output_type": "stream",
     "text": [
      "C:\\Users\\akudnaver\\AppData\\Local\\Continuum\\anaconda3\\lib\\site-packages\\h5py\\__init__.py:36: FutureWarning: Conversion of the second argument of issubdtype from `float` to `np.floating` is deprecated. In future, it will be treated as `np.float64 == np.dtype(float).type`.\n",
      "  from ._conv import register_converters as _register_converters\n",
      "Using TensorFlow backend.\n"
     ]
    }
   ],
   "source": [
    "# This project is intended to perform a Sentimental Analysis on the Amazon Reviews\n",
    "# We will be applying the LSTM model on the Amazon reviews to predict the Review Ratings\n",
    "\n",
    "\n",
    "# We will start by importing all the librabries we need for performing LSTM operation \n",
    "# on a Text Review from Amazon and will try find out the negative & positive feedback from those reviews\n",
    "\n",
    "import numpy as np \n",
    "import pandas as pd \n",
    "import os\n",
    "import nltk\n",
    "from sklearn.feature_extraction.text import CountVectorizer\n",
    "from keras.preprocessing.text import Tokenizer\n",
    "from keras.preprocessing.sequence import pad_sequences\n",
    "from keras.models import Sequential\n",
    "from keras.layers import Dense, Embedding, LSTM, SpatialDropout1D, Flatten\n",
    "from sklearn.model_selection import train_test_split\n",
    "from keras.utils.np_utils import to_categorical\n",
    "import string\n",
    "import seaborn as sns\n",
    "from sklearn.preprocessing import LabelEncoder\n",
    "from keras.callbacks import ModelCheckpoint, EarlyStopping\n",
    "import matplotlib.pyplot as plt\n",
    "from nltk.corpus import stopwords\n",
    "from nltk.tokenize import RegexpTokenizer\n",
    "from nltk.stem import WordNetLemmatizer\n",
    "from nltk.stem.porter import PorterStemmer\n",
    "\n",
    "# import pdb; pdb.set_trace() \n",
    "import re"
   ]
  },
  {
   "cell_type": "code",
   "execution_count": 2,
   "metadata": {},
   "outputs": [],
   "source": [
    "# Here we are reading a CSV file using pandas and converting to DataFramce , as the data is already in a row/col format \n",
    "# no extra effort required here. \n",
    "\n",
    "data = pd.read_excel('../review-details.xlsx')"
   ]
  },
  {
   "cell_type": "code",
   "execution_count": 3,
   "metadata": {},
   "outputs": [
    {
     "data": {
      "text/html": [
       "<div>\n",
       "<style scoped>\n",
       "    .dataframe tbody tr th:only-of-type {\n",
       "        vertical-align: middle;\n",
       "    }\n",
       "\n",
       "    .dataframe tbody tr th {\n",
       "        vertical-align: top;\n",
       "    }\n",
       "\n",
       "    .dataframe thead th {\n",
       "        text-align: right;\n",
       "    }\n",
       "</style>\n",
       "<table border=\"1\" class=\"dataframe\">\n",
       "  <thead>\n",
       "    <tr style=\"text-align: right;\">\n",
       "      <th></th>\n",
       "      <th>report_date</th>\n",
       "      <th>online_store</th>\n",
       "      <th>upc</th>\n",
       "      <th>retailer_product_code</th>\n",
       "      <th>brand</th>\n",
       "      <th>category</th>\n",
       "      <th>sub_category</th>\n",
       "      <th>product_description</th>\n",
       "      <th>review_date</th>\n",
       "      <th>review_rating</th>\n",
       "      <th>...</th>\n",
       "      <th>manufacturer</th>\n",
       "      <th>market</th>\n",
       "      <th>review_type</th>\n",
       "      <th>parent_review</th>\n",
       "      <th>dimension1</th>\n",
       "      <th>dimension2</th>\n",
       "      <th>dimension8</th>\n",
       "      <th>verified_purchase</th>\n",
       "      <th>helpful_review_count</th>\n",
       "      <th>review_hash_id</th>\n",
       "    </tr>\n",
       "  </thead>\n",
       "  <tbody>\n",
       "    <tr>\n",
       "      <th>0</th>\n",
       "      <td>2019-01-02</td>\n",
       "      <td>FRESHAMAZON</td>\n",
       "      <td>8718114216478</td>\n",
       "      <td>B0142CI6FC</td>\n",
       "      <td>Dove Men+Care</td>\n",
       "      <td>Personal Care</td>\n",
       "      <td>Deos</td>\n",
       "      <td>Dove Men+Care Extra Fresh Anti-perspirant Deod...</td>\n",
       "      <td>2019-01-01</td>\n",
       "      <td>5</td>\n",
       "      <td>...</td>\n",
       "      <td>Unilever Global</td>\n",
       "      <td>UK</td>\n",
       "      <td>Organic</td>\n",
       "      <td>Child</td>\n",
       "      <td>Deos</td>\n",
       "      <td>Male Anti-Perspirant Deodorant</td>\n",
       "      <td>Core of the Core</td>\n",
       "      <td>True</td>\n",
       "      <td>0</td>\n",
       "      <td>3f129b02-ea76-0323-bd59-235d97a4f83f</td>\n",
       "    </tr>\n",
       "    <tr>\n",
       "      <th>1</th>\n",
       "      <td>2019-01-03</td>\n",
       "      <td>FRESHAMAZON</td>\n",
       "      <td>5000184201199</td>\n",
       "      <td>B014DFNNRY</td>\n",
       "      <td>Marmite</td>\n",
       "      <td>Foods</td>\n",
       "      <td>Savoury</td>\n",
       "      <td>Marmite  Spread Yeast Extract 500g</td>\n",
       "      <td>2019-01-02</td>\n",
       "      <td>5</td>\n",
       "      <td>...</td>\n",
       "      <td>Unilever Global</td>\n",
       "      <td>UK</td>\n",
       "      <td>Organic</td>\n",
       "      <td>Child</td>\n",
       "      <td>Savoury</td>\n",
       "      <td>COTC Yeast Extract</td>\n",
       "      <td>Core of the Core</td>\n",
       "      <td>True</td>\n",
       "      <td>0</td>\n",
       "      <td>d7f3b9aa-e8b3-626d-683b-374e201c8315</td>\n",
       "    </tr>\n",
       "    <tr>\n",
       "      <th>2</th>\n",
       "      <td>2019-01-03</td>\n",
       "      <td>FRESHAMAZON</td>\n",
       "      <td>5000184201199</td>\n",
       "      <td>B014DFNNRY</td>\n",
       "      <td>Marmite</td>\n",
       "      <td>Foods</td>\n",
       "      <td>Savoury</td>\n",
       "      <td>Marmite  Spread Yeast Extract 500g</td>\n",
       "      <td>2019-01-02</td>\n",
       "      <td>4</td>\n",
       "      <td>...</td>\n",
       "      <td>Unilever Global</td>\n",
       "      <td>UK</td>\n",
       "      <td>Organic</td>\n",
       "      <td>Child</td>\n",
       "      <td>Savoury</td>\n",
       "      <td>COTC Yeast Extract</td>\n",
       "      <td>Core of the Core</td>\n",
       "      <td>True</td>\n",
       "      <td>0</td>\n",
       "      <td>e58a523d-0155-a366-f107-7ac6817ac3b7</td>\n",
       "    </tr>\n",
       "    <tr>\n",
       "      <th>3</th>\n",
       "      <td>2019-01-03</td>\n",
       "      <td>FRESHAMAZON</td>\n",
       "      <td>8712566479726</td>\n",
       "      <td>B014DFKELC</td>\n",
       "      <td>Knorr</td>\n",
       "      <td>Foods</td>\n",
       "      <td>Savoury</td>\n",
       "      <td>Knorr  Beef Stock Pot 8 x 28g</td>\n",
       "      <td>2019-01-02</td>\n",
       "      <td>5</td>\n",
       "      <td>...</td>\n",
       "      <td>Unilever Global</td>\n",
       "      <td>UK</td>\n",
       "      <td>Organic</td>\n",
       "      <td>Parent</td>\n",
       "      <td>Savoury</td>\n",
       "      <td>Beef Stock/Pots/Cubes/Extract/Liquid/Concentrated</td>\n",
       "      <td>Core of the Core</td>\n",
       "      <td>True</td>\n",
       "      <td>0</td>\n",
       "      <td>aaa9bb87-4f99-bb89-65cb-3b400ebb45c0</td>\n",
       "    </tr>\n",
       "    <tr>\n",
       "      <th>4</th>\n",
       "      <td>2019-01-03</td>\n",
       "      <td>FRESHAMAZON</td>\n",
       "      <td>8717163536476</td>\n",
       "      <td>B014G37I7E</td>\n",
       "      <td>Cif</td>\n",
       "      <td>Homecare</td>\n",
       "      <td>HHC</td>\n",
       "      <td>Cif Citrus Bathroom Mousse 500ml</td>\n",
       "      <td>2019-01-02</td>\n",
       "      <td>5</td>\n",
       "      <td>...</td>\n",
       "      <td>Unilever Global</td>\n",
       "      <td>UK</td>\n",
       "      <td>Organic</td>\n",
       "      <td>Parent</td>\n",
       "      <td>HHC</td>\n",
       "      <td>Bathroom Mousse</td>\n",
       "      <td>Core of the Core</td>\n",
       "      <td>False</td>\n",
       "      <td>0</td>\n",
       "      <td>48c71b34-d7fe-5e90-51dd-239e153fb0ae</td>\n",
       "    </tr>\n",
       "  </tbody>\n",
       "</table>\n",
       "<p>5 rows × 22 columns</p>\n",
       "</div>"
      ],
      "text/plain": [
       "  report_date online_store            upc retailer_product_code  \\\n",
       "0  2019-01-02  FRESHAMAZON  8718114216478            B0142CI6FC   \n",
       "1  2019-01-03  FRESHAMAZON  5000184201199            B014DFNNRY   \n",
       "2  2019-01-03  FRESHAMAZON  5000184201199            B014DFNNRY   \n",
       "3  2019-01-03  FRESHAMAZON  8712566479726            B014DFKELC   \n",
       "4  2019-01-03  FRESHAMAZON  8717163536476            B014G37I7E   \n",
       "\n",
       "           brand       category sub_category  \\\n",
       "0  Dove Men+Care  Personal Care         Deos   \n",
       "1        Marmite          Foods      Savoury   \n",
       "2        Marmite          Foods      Savoury   \n",
       "3          Knorr          Foods      Savoury   \n",
       "4            Cif       Homecare          HHC   \n",
       "\n",
       "                                 product_description review_date  \\\n",
       "0  Dove Men+Care Extra Fresh Anti-perspirant Deod...  2019-01-01   \n",
       "1                 Marmite  Spread Yeast Extract 500g  2019-01-02   \n",
       "2                 Marmite  Spread Yeast Extract 500g  2019-01-02   \n",
       "3                      Knorr  Beef Stock Pot 8 x 28g  2019-01-02   \n",
       "4                   Cif Citrus Bathroom Mousse 500ml  2019-01-02   \n",
       "\n",
       "   review_rating                  ...                      manufacturer  \\\n",
       "0              5                  ...                   Unilever Global   \n",
       "1              5                  ...                   Unilever Global   \n",
       "2              4                  ...                   Unilever Global   \n",
       "3              5                  ...                   Unilever Global   \n",
       "4              5                  ...                   Unilever Global   \n",
       "\n",
       "   market review_type parent_review dimension1  \\\n",
       "0      UK     Organic         Child       Deos   \n",
       "1      UK     Organic         Child    Savoury   \n",
       "2      UK     Organic         Child    Savoury   \n",
       "3      UK     Organic        Parent    Savoury   \n",
       "4      UK     Organic        Parent        HHC   \n",
       "\n",
       "                                          dimension2        dimension8  \\\n",
       "0                     Male Anti-Perspirant Deodorant  Core of the Core   \n",
       "1                                 COTC Yeast Extract  Core of the Core   \n",
       "2                                 COTC Yeast Extract  Core of the Core   \n",
       "3  Beef Stock/Pots/Cubes/Extract/Liquid/Concentrated  Core of the Core   \n",
       "4                                    Bathroom Mousse  Core of the Core   \n",
       "\n",
       "  verified_purchase helpful_review_count                        review_hash_id  \n",
       "0              True                    0  3f129b02-ea76-0323-bd59-235d97a4f83f  \n",
       "1              True                    0  d7f3b9aa-e8b3-626d-683b-374e201c8315  \n",
       "2              True                    0  e58a523d-0155-a366-f107-7ac6817ac3b7  \n",
       "3              True                    0  aaa9bb87-4f99-bb89-65cb-3b400ebb45c0  \n",
       "4             False                    0  48c71b34-d7fe-5e90-51dd-239e153fb0ae  \n",
       "\n",
       "[5 rows x 22 columns]"
      ]
     },
     "execution_count": 3,
     "metadata": {},
     "output_type": "execute_result"
    }
   ],
   "source": [
    "# in this step we will get rid of all the NAN values across the column for individual rows\n",
    "\n",
    "data.dropna(axis = 1, how ='any').head()"
   ]
  },
  {
   "cell_type": "code",
   "execution_count": 4,
   "metadata": {},
   "outputs": [
    {
     "data": {
      "text/plain": [
       "<matplotlib.axes._subplots.AxesSubplot at 0x1f6b8074208>"
      ]
     },
     "execution_count": 4,
     "metadata": {},
     "output_type": "execute_result"
    },
    {
     "data": {
      "image/png": "[encoded data removed]",
      "text/plain": [
       "<Figure size 432x288 with 1 Axes>"
      ]
     },
     "metadata": {},
     "output_type": "display_data"
    }
   ],
   "source": [
    "# Lets now get a count of products Amazon is trying to see and get a plot of the count \n",
    "\n",
    "sns.countplot(x='category', data=data, palette='hls')"
   ]
  },
  {
   "cell_type": "code",
   "execution_count": 5,
   "metadata": {},
   "outputs": [
    {
     "data": {
      "text/html": [
       "<div>\n",
       "<style scoped>\n",
       "    .dataframe tbody tr th:only-of-type {\n",
       "        vertical-align: middle;\n",
       "    }\n",
       "\n",
       "    .dataframe tbody tr th {\n",
       "        vertical-align: top;\n",
       "    }\n",
       "\n",
       "    .dataframe thead th {\n",
       "        text-align: right;\n",
       "    }\n",
       "</style>\n",
       "<table border=\"1\" class=\"dataframe\">\n",
       "  <thead>\n",
       "    <tr style=\"text-align: right;\">\n",
       "      <th></th>\n",
       "      <th>category_new</th>\n",
       "      <th>category</th>\n",
       "    </tr>\n",
       "  </thead>\n",
       "  <tbody>\n",
       "    <tr>\n",
       "      <th>0</th>\n",
       "      <td>2</td>\n",
       "      <td>Personal Care</td>\n",
       "    </tr>\n",
       "    <tr>\n",
       "      <th>1</th>\n",
       "      <td>0</td>\n",
       "      <td>Foods</td>\n",
       "    </tr>\n",
       "    <tr>\n",
       "      <th>2</th>\n",
       "      <td>0</td>\n",
       "      <td>Foods</td>\n",
       "    </tr>\n",
       "    <tr>\n",
       "      <th>3</th>\n",
       "      <td>0</td>\n",
       "      <td>Foods</td>\n",
       "    </tr>\n",
       "    <tr>\n",
       "      <th>4</th>\n",
       "      <td>1</td>\n",
       "      <td>Homecare</td>\n",
       "    </tr>\n",
       "  </tbody>\n",
       "</table>\n",
       "</div>"
      ],
      "text/plain": [
       "   category_new       category\n",
       "0             2  Personal Care\n",
       "1             0          Foods\n",
       "2             0          Foods\n",
       "3             0          Foods\n",
       "4             1       Homecare"
      ]
     },
     "execution_count": 5,
     "metadata": {},
     "output_type": "execute_result"
    }
   ],
   "source": [
    "# As the category data is in a lablled format,\n",
    "# we get a number for each of these different lables by using the Label Encoding method\n",
    "\n",
    "lb_make = LabelEncoder()\n",
    "data['category_new'] = lb_make.fit_transform(data['category'])\n",
    "data[['category_new', 'category']].head()"
   ]
  },
  {
   "cell_type": "code",
   "execution_count": 6,
   "metadata": {},
   "outputs": [
    {
     "data": {
      "text/plain": [
       "<matplotlib.axes._subplots.AxesSubplot at 0x1f6b8a79e48>"
      ]
     },
     "execution_count": 6,
     "metadata": {},
     "output_type": "execute_result"
    },
    {
     "data": {
      "image/png": "[encoded data removed]",
      "text/plain": [
       "<Figure size 432x288 with 1 Axes>"
      ]
     },
     "metadata": {},
     "output_type": "display_data"
    }
   ],
   "source": [
    "# In this step will get a plot of review_rating across different products ,\n",
    "# This is a good practice to understand how satisfied the customers are with these products \n",
    "\n",
    "mapping = {1: 'Poor', 2: 'Not bad', 3: 'Descent', 4: 'Good', 5: 'Excellent'}\n",
    "\n",
    "data['review_rating_label'] = data['review_rating'].map(mapping)\n",
    "\n",
    "sns.countplot(x='review_rating_label', hue='category', data= data)"
   ]
  },
  {
   "cell_type": "code",
   "execution_count": 7,
   "metadata": {},
   "outputs": [
    {
     "name": "stderr",
     "output_type": "stream",
     "text": [
      "C:\\Users\\akudnaver\\AppData\\Local\\Continuum\\anaconda3\\lib\\site-packages\\seaborn\\distributions.py:218: MatplotlibDeprecationWarning: \n",
      "The 'normed' kwarg was deprecated in Matplotlib 2.1 and will be removed in 3.1. Use 'density' instead.\n",
      "  color=hist_color, **hist_kws)\n"
     ]
    },
    {
     "data": {
      "text/plain": [
       "<matplotlib.axes._subplots.AxesSubplot at 0x1f6b863a160>"
      ]
     },
     "execution_count": 7,
     "metadata": {},
     "output_type": "execute_result"
    },
    {
     "data": {
      "image/png": "[encoded data removed]",
      "text/plain": [
       "<Figure size 432x288 with 1 Axes>"
      ]
     },
     "metadata": {},
     "output_type": "display_data"
    }
   ],
   "source": [
    "# Lets take a quick peak at the distribution of review_rating\n",
    "# that will help us decide to get rid of neutral feedbacks\n",
    "# will try to keep the feedback between Positive and Negatve Reviews\n",
    "\n",
    "sns.distplot(data['review_rating'])"
   ]
  },
  {
   "cell_type": "code",
   "execution_count": 8,
   "metadata": {},
   "outputs": [
    {
     "data": {
      "text/html": [
       "<div>\n",
       "<style scoped>\n",
       "    .dataframe tbody tr th:only-of-type {\n",
       "        vertical-align: middle;\n",
       "    }\n",
       "\n",
       "    .dataframe tbody tr th {\n",
       "        vertical-align: top;\n",
       "    }\n",
       "\n",
       "    .dataframe thead th {\n",
       "        text-align: right;\n",
       "    }\n",
       "</style>\n",
       "<table border=\"1\" class=\"dataframe\">\n",
       "  <thead>\n",
       "    <tr style=\"text-align: right;\">\n",
       "      <th></th>\n",
       "      <th>report_date</th>\n",
       "      <th>online_store</th>\n",
       "      <th>upc</th>\n",
       "      <th>retailer_product_code</th>\n",
       "      <th>brand</th>\n",
       "      <th>category</th>\n",
       "      <th>sub_category</th>\n",
       "      <th>product_description</th>\n",
       "      <th>review_date</th>\n",
       "      <th>review_rating</th>\n",
       "      <th>...</th>\n",
       "      <th>dimension4</th>\n",
       "      <th>dimension5</th>\n",
       "      <th>dimension6</th>\n",
       "      <th>dimension7</th>\n",
       "      <th>dimension8</th>\n",
       "      <th>verified_purchase</th>\n",
       "      <th>helpful_review_count</th>\n",
       "      <th>review_hash_id</th>\n",
       "      <th>category_new</th>\n",
       "      <th>review_rating_label</th>\n",
       "    </tr>\n",
       "  </thead>\n",
       "  <tbody>\n",
       "    <tr>\n",
       "      <th>0</th>\n",
       "      <td>2019-01-02</td>\n",
       "      <td>FRESHAMAZON</td>\n",
       "      <td>8718114216478</td>\n",
       "      <td>B0142CI6FC</td>\n",
       "      <td>Dove Men+Care</td>\n",
       "      <td>Personal Care</td>\n",
       "      <td>Deos</td>\n",
       "      <td>Dove Men+Care Extra Fresh Anti-perspirant Deod...</td>\n",
       "      <td>2019-01-01</td>\n",
       "      <td>5</td>\n",
       "      <td>...</td>\n",
       "      <td>NaN</td>\n",
       "      <td>NaN</td>\n",
       "      <td>NaN</td>\n",
       "      <td>COTC Male Anti-Perspirant Deodorant</td>\n",
       "      <td>Core of the Core</td>\n",
       "      <td>True</td>\n",
       "      <td>0</td>\n",
       "      <td>3f129b02-ea76-0323-bd59-235d97a4f83f</td>\n",
       "      <td>2</td>\n",
       "      <td>Excellent</td>\n",
       "    </tr>\n",
       "    <tr>\n",
       "      <th>1</th>\n",
       "      <td>2019-01-03</td>\n",
       "      <td>FRESHAMAZON</td>\n",
       "      <td>5000184201199</td>\n",
       "      <td>B014DFNNRY</td>\n",
       "      <td>Marmite</td>\n",
       "      <td>Foods</td>\n",
       "      <td>Savoury</td>\n",
       "      <td>Marmite  Spread Yeast Extract 500g</td>\n",
       "      <td>2019-01-02</td>\n",
       "      <td>5</td>\n",
       "      <td>...</td>\n",
       "      <td>NaN</td>\n",
       "      <td>NaN</td>\n",
       "      <td>NaN</td>\n",
       "      <td>COTC Yeast Extract</td>\n",
       "      <td>Core of the Core</td>\n",
       "      <td>True</td>\n",
       "      <td>0</td>\n",
       "      <td>d7f3b9aa-e8b3-626d-683b-374e201c8315</td>\n",
       "      <td>0</td>\n",
       "      <td>Excellent</td>\n",
       "    </tr>\n",
       "    <tr>\n",
       "      <th>2</th>\n",
       "      <td>2019-01-03</td>\n",
       "      <td>FRESHAMAZON</td>\n",
       "      <td>5000184201199</td>\n",
       "      <td>B014DFNNRY</td>\n",
       "      <td>Marmite</td>\n",
       "      <td>Foods</td>\n",
       "      <td>Savoury</td>\n",
       "      <td>Marmite  Spread Yeast Extract 500g</td>\n",
       "      <td>2019-01-02</td>\n",
       "      <td>4</td>\n",
       "      <td>...</td>\n",
       "      <td>NaN</td>\n",
       "      <td>NaN</td>\n",
       "      <td>NaN</td>\n",
       "      <td>COTC Yeast Extract</td>\n",
       "      <td>Core of the Core</td>\n",
       "      <td>True</td>\n",
       "      <td>0</td>\n",
       "      <td>e58a523d-0155-a366-f107-7ac6817ac3b7</td>\n",
       "      <td>0</td>\n",
       "      <td>Good</td>\n",
       "    </tr>\n",
       "    <tr>\n",
       "      <th>3</th>\n",
       "      <td>2019-01-03</td>\n",
       "      <td>FRESHAMAZON</td>\n",
       "      <td>8712566479726</td>\n",
       "      <td>B014DFKELC</td>\n",
       "      <td>Knorr</td>\n",
       "      <td>Foods</td>\n",
       "      <td>Savoury</td>\n",
       "      <td>Knorr  Beef Stock Pot 8 x 28g</td>\n",
       "      <td>2019-01-02</td>\n",
       "      <td>5</td>\n",
       "      <td>...</td>\n",
       "      <td>NaN</td>\n",
       "      <td>NaN</td>\n",
       "      <td>NaN</td>\n",
       "      <td>Stock Pots</td>\n",
       "      <td>Core of the Core</td>\n",
       "      <td>True</td>\n",
       "      <td>0</td>\n",
       "      <td>aaa9bb87-4f99-bb89-65cb-3b400ebb45c0</td>\n",
       "      <td>0</td>\n",
       "      <td>Excellent</td>\n",
       "    </tr>\n",
       "    <tr>\n",
       "      <th>4</th>\n",
       "      <td>2019-01-03</td>\n",
       "      <td>FRESHAMAZON</td>\n",
       "      <td>8717163536476</td>\n",
       "      <td>B014G37I7E</td>\n",
       "      <td>Cif</td>\n",
       "      <td>Homecare</td>\n",
       "      <td>HHC</td>\n",
       "      <td>Cif Citrus Bathroom Mousse 500ml</td>\n",
       "      <td>2019-01-02</td>\n",
       "      <td>5</td>\n",
       "      <td>...</td>\n",
       "      <td>NaN</td>\n",
       "      <td>NaN</td>\n",
       "      <td>NaN</td>\n",
       "      <td>NaN</td>\n",
       "      <td>Core of the Core</td>\n",
       "      <td>False</td>\n",
       "      <td>0</td>\n",
       "      <td>48c71b34-d7fe-5e90-51dd-239e153fb0ae</td>\n",
       "      <td>1</td>\n",
       "      <td>Excellent</td>\n",
       "    </tr>\n",
       "  </tbody>\n",
       "</table>\n",
       "<p>5 rows × 34 columns</p>\n",
       "</div>"
      ],
      "text/plain": [
       "  report_date online_store            upc retailer_product_code  \\\n",
       "0  2019-01-02  FRESHAMAZON  8718114216478            B0142CI6FC   \n",
       "1  2019-01-03  FRESHAMAZON  5000184201199            B014DFNNRY   \n",
       "2  2019-01-03  FRESHAMAZON  5000184201199            B014DFNNRY   \n",
       "3  2019-01-03  FRESHAMAZON  8712566479726            B014DFKELC   \n",
       "4  2019-01-03  FRESHAMAZON  8717163536476            B014G37I7E   \n",
       "\n",
       "           brand       category sub_category  \\\n",
       "0  Dove Men+Care  Personal Care         Deos   \n",
       "1        Marmite          Foods      Savoury   \n",
       "2        Marmite          Foods      Savoury   \n",
       "3          Knorr          Foods      Savoury   \n",
       "4            Cif       Homecare          HHC   \n",
       "\n",
       "                                 product_description review_date  \\\n",
       "0  Dove Men+Care Extra Fresh Anti-perspirant Deod...  2019-01-01   \n",
       "1                 Marmite  Spread Yeast Extract 500g  2019-01-02   \n",
       "2                 Marmite  Spread Yeast Extract 500g  2019-01-02   \n",
       "3                      Knorr  Beef Stock Pot 8 x 28g  2019-01-02   \n",
       "4                   Cif Citrus Bathroom Mousse 500ml  2019-01-02   \n",
       "\n",
       "   review_rating         ...         dimension4 dimension5  dimension6  \\\n",
       "0              5         ...                NaN        NaN         NaN   \n",
       "1              5         ...                NaN        NaN         NaN   \n",
       "2              4         ...                NaN        NaN         NaN   \n",
       "3              5         ...                NaN        NaN         NaN   \n",
       "4              5         ...                NaN        NaN         NaN   \n",
       "\n",
       "                            dimension7        dimension8  verified_purchase  \\\n",
       "0  COTC Male Anti-Perspirant Deodorant  Core of the Core               True   \n",
       "1                   COTC Yeast Extract  Core of the Core               True   \n",
       "2                   COTC Yeast Extract  Core of the Core               True   \n",
       "3                           Stock Pots  Core of the Core               True   \n",
       "4                                  NaN  Core of the Core              False   \n",
       "\n",
       "   helpful_review_count                        review_hash_id category_new  \\\n",
       "0                     0  3f129b02-ea76-0323-bd59-235d97a4f83f            2   \n",
       "1                     0  d7f3b9aa-e8b3-626d-683b-374e201c8315            0   \n",
       "2                     0  e58a523d-0155-a366-f107-7ac6817ac3b7            0   \n",
       "3                     0  aaa9bb87-4f99-bb89-65cb-3b400ebb45c0            0   \n",
       "4                     0  48c71b34-d7fe-5e90-51dd-239e153fb0ae            1   \n",
       "\n",
       "  review_rating_label  \n",
       "0           Excellent  \n",
       "1           Excellent  \n",
       "2                Good  \n",
       "3           Excellent  \n",
       "4           Excellent  \n",
       "\n",
       "[5 rows x 34 columns]"
      ]
     },
     "execution_count": 8,
     "metadata": {},
     "output_type": "execute_result"
    }
   ],
   "source": [
    "# Lets display the first 5 rows of our data frame \n",
    "\n",
    "data.head(5)"
   ]
  },
  {
   "cell_type": "code",
   "execution_count": 9,
   "metadata": {},
   "outputs": [
    {
     "data": {
      "text/html": [
       "<div>\n",
       "<style scoped>\n",
       "    .dataframe tbody tr th:only-of-type {\n",
       "        vertical-align: middle;\n",
       "    }\n",
       "\n",
       "    .dataframe tbody tr th {\n",
       "        vertical-align: top;\n",
       "    }\n",
       "\n",
       "    .dataframe thead th {\n",
       "        text-align: right;\n",
       "    }\n",
       "</style>\n",
       "<table border=\"1\" class=\"dataframe\">\n",
       "  <thead>\n",
       "    <tr style=\"text-align: right;\">\n",
       "      <th></th>\n",
       "      <th>review_text</th>\n",
       "      <th>review_rating</th>\n",
       "    </tr>\n",
       "  </thead>\n",
       "  <tbody>\n",
       "    <tr>\n",
       "      <th>0</th>\n",
       "      <td>As you get older, you know what you like and w...</td>\n",
       "      <td>5</td>\n",
       "    </tr>\n",
       "    <tr>\n",
       "      <th>1</th>\n",
       "      <td>Three gigantic marmite jars that will last pro...</td>\n",
       "      <td>5</td>\n",
       "    </tr>\n",
       "    <tr>\n",
       "      <th>2</th>\n",
       "      <td>Excellent</td>\n",
       "      <td>4</td>\n",
       "    </tr>\n",
       "    <tr>\n",
       "      <th>3</th>\n",
       "      <td>A great flavour top - up for slow cooking.</td>\n",
       "      <td>5</td>\n",
       "    </tr>\n",
       "    <tr>\n",
       "      <th>4</th>\n",
       "      <td>Does what is says it does</td>\n",
       "      <td>5</td>\n",
       "    </tr>\n",
       "  </tbody>\n",
       "</table>\n",
       "</div>"
      ],
      "text/plain": [
       "                                         review_text  review_rating\n",
       "0  As you get older, you know what you like and w...              5\n",
       "1  Three gigantic marmite jars that will last pro...              5\n",
       "2                                          Excellent              4\n",
       "3         A great flavour top - up for slow cooking.              5\n",
       "4                          Does what is says it does              5"
      ]
     },
     "execution_count": 9,
     "metadata": {},
     "output_type": "execute_result"
    }
   ],
   "source": [
    "# Now we have arrive at one of most important step , which is feature extraction,\n",
    "# I think you should play with less and most significant feature at a time and start adding more feature \n",
    "# if you have solid understanding of the industry from where the problem statement is coming from.\n",
    "# As the whole purpose of this program is Sentimental Analysis on the reviews , am choosing only 2 features as \n",
    "# shown below. \n",
    "\n",
    "train_data = data[['review_text','review_rating']]\n",
    "\n",
    "train_data.head()"
   ]
  },
  {
   "cell_type": "code",
   "execution_count": 10,
   "metadata": {},
   "outputs": [],
   "source": [
    "# Data cleaning is vital when it comes to NLP application on the text data\n",
    "\n",
    "def rem_punctuation(text):\n",
    "    no_punc = \"\".join([ x for x in text if x not in string.punctuation])\n",
    "    return no_punc"
   ]
  },
  {
   "cell_type": "code",
   "execution_count": 11,
   "metadata": {},
   "outputs": [
    {
     "name": "stderr",
     "output_type": "stream",
     "text": [
      "C:\\Users\\akudnaver\\AppData\\Local\\Continuum\\anaconda3\\lib\\site-packages\\ipykernel_launcher.py:3: SettingWithCopyWarning: \n",
      "A value is trying to be set on a copy of a slice from a DataFrame.\n",
      "Try using .loc[row_indexer,col_indexer] = value instead\n",
      "\n",
      "See the caveats in the documentation: http://pandas.pydata.org/pandas-docs/stable/indexing.html#indexing-view-versus-copy\n",
      "  This is separate from the ipykernel package so we can avoid doing imports until\n"
     ]
    },
    {
     "data": {
      "text/plain": [
       "0    As you get older you know what you like and wh...\n",
       "1    Three gigantic marmite jars that will last pro...\n",
       "2                                            Excellent\n",
       "3             A great flavour top  up for slow cooking\n",
       "4                            Does what is says it does\n",
       "Name: review_text, dtype: object"
      ]
     },
     "execution_count": 11,
     "metadata": {},
     "output_type": "execute_result"
    }
   ],
   "source": [
    "# Lets remove all the punctuations from our review_text data\n",
    "\n",
    "train_data['review_text'] = train_data['review_text'].apply(lambda x: rem_punctuation(x))\n",
    "train_data['review_text'].head()"
   ]
  },
  {
   "cell_type": "code",
   "execution_count": 12,
   "metadata": {},
   "outputs": [],
   "source": [
    "# Now we need to tokenize our words in review_text data\n",
    "# Intantiate Tokenizer\n",
    "\n",
    "tokenizer = RegexpTokenizer(r'\\w+')"
   ]
  },
  {
   "cell_type": "code",
   "execution_count": 13,
   "metadata": {},
   "outputs": [
    {
     "name": "stderr",
     "output_type": "stream",
     "text": [
      "C:\\Users\\akudnaver\\AppData\\Local\\Continuum\\anaconda3\\lib\\site-packages\\ipykernel_launcher.py:3: SettingWithCopyWarning: \n",
      "A value is trying to be set on a copy of a slice from a DataFrame.\n",
      "Try using .loc[row_indexer,col_indexer] = value instead\n",
      "\n",
      "See the caveats in the documentation: http://pandas.pydata.org/pandas-docs/stable/indexing.html#indexing-view-versus-copy\n",
      "  This is separate from the ipykernel package so we can avoid doing imports until\n"
     ]
    },
    {
     "data": {
      "text/plain": [
       "0    [as, you, get, older, you, know, what, you, li...\n",
       "1    [three, gigantic, marmite, jars, that, will, l...\n",
       "2                                          [excellent]\n",
       "3     [a, great, flavour, top, up, for, slow, cooking]\n",
       "4                     [does, what, is, says, it, does]\n",
       "Name: review_text, dtype: object"
      ]
     },
     "execution_count": 13,
     "metadata": {},
     "output_type": "execute_result"
    }
   ],
   "source": [
    "# Let's apply the tokenizer on our review text data\n",
    "\n",
    "train_data['review_text']  = train_data['review_text'].apply(lambda x: tokenizer.tokenize(x.lower()))\n",
    "train_data['review_text'].head()"
   ]
  },
  {
   "cell_type": "code",
   "execution_count": 14,
   "metadata": {},
   "outputs": [],
   "source": [
    "def rem_stopwords(text):\n",
    "    words = [w for w in text if w in stopwords.words('english')]\n",
    "    return words"
   ]
  },
  {
   "cell_type": "code",
   "execution_count": 15,
   "metadata": {},
   "outputs": [],
   "source": [
    "# We need a lemmatizer on our review_text ,Lemmatization  brings context to the words. \n",
    "# So it links words with similar meaning to one word. Let see how that helps our model \n",
    "\n",
    "lemmatizer = WordNetLemmatizer()\n",
    "\n",
    "def word_lemmatizer(text):\n",
    "    lem_text = [lemmatizer.lemmatize(i) for i in text]\n",
    "    return lem_text"
   ]
  },
  {
   "cell_type": "code",
   "execution_count": 16,
   "metadata": {},
   "outputs": [
    {
     "name": "stderr",
     "output_type": "stream",
     "text": [
      "C:\\Users\\akudnaver\\AppData\\Local\\Continuum\\anaconda3\\lib\\site-packages\\ipykernel_launcher.py:3: SettingWithCopyWarning: \n",
      "A value is trying to be set on a copy of a slice from a DataFrame.\n",
      "Try using .loc[row_indexer,col_indexer] = value instead\n",
      "\n",
      "See the caveats in the documentation: http://pandas.pydata.org/pandas-docs/stable/indexing.html#indexing-view-versus-copy\n",
      "  This is separate from the ipykernel package so we can avoid doing imports until\n"
     ]
    },
    {
     "data": {
      "text/plain": [
       "0    [a, you, get, older, you, know, what, you, lik...\n",
       "1    [three, gigantic, marmite, jar, that, will, la...\n",
       "2                                          [excellent]\n",
       "3     [a, great, flavour, top, up, for, slow, cooking]\n",
       "4                        [doe, what, is, say, it, doe]\n",
       "Name: review_text, dtype: object"
      ]
     },
     "execution_count": 16,
     "metadata": {},
     "output_type": "execute_result"
    }
   ],
   "source": [
    "# lets apply the lemmatization function\n",
    "\n",
    "train_data['review_text']  = train_data['review_text'].apply(lambda x: word_lemmatizer(x))\n",
    "train_data['review_text'].head()"
   ]
  },
  {
   "cell_type": "code",
   "execution_count": 17,
   "metadata": {},
   "outputs": [
    {
     "name": "stderr",
     "output_type": "stream",
     "text": [
      "C:\\Users\\akudnaver\\AppData\\Local\\Continuum\\anaconda3\\lib\\site-packages\\ipykernel_launcher.py:4: SettingWithCopyWarning: \n",
      "A value is trying to be set on a copy of a slice from a DataFrame\n",
      "\n",
      "See the caveats in the documentation: http://pandas.pydata.org/pandas-docs/stable/indexing.html#indexing-view-versus-copy\n",
      "  after removing the cwd from sys.path.\n",
      "C:\\Users\\akudnaver\\AppData\\Local\\Continuum\\anaconda3\\lib\\site-packages\\ipykernel_launcher.py:6: SettingWithCopyWarning: \n",
      "A value is trying to be set on a copy of a slice from a DataFrame.\n",
      "Try using .loc[row_indexer,col_indexer] = value instead\n",
      "\n",
      "See the caveats in the documentation: http://pandas.pydata.org/pandas-docs/stable/indexing.html#indexing-view-versus-copy\n",
      "  \n",
      "C:\\Users\\akudnaver\\AppData\\Local\\Continuum\\anaconda3\\lib\\site-packages\\pandas\\core\\frame.py:3694: SettingWithCopyWarning: \n",
      "A value is trying to be set on a copy of a slice from a DataFrame\n",
      "\n",
      "See the caveats in the documentation: http://pandas.pydata.org/pandas-docs/stable/indexing.html#indexing-view-versus-copy\n",
      "  errors=errors)\n"
     ]
    },
    {
     "data": {
      "text/html": [
       "<div>\n",
       "<style scoped>\n",
       "    .dataframe tbody tr th:only-of-type {\n",
       "        vertical-align: middle;\n",
       "    }\n",
       "\n",
       "    .dataframe tbody tr th {\n",
       "        vertical-align: top;\n",
       "    }\n",
       "\n",
       "    .dataframe thead th {\n",
       "        text-align: right;\n",
       "    }\n",
       "</style>\n",
       "<table border=\"1\" class=\"dataframe\">\n",
       "  <thead>\n",
       "    <tr style=\"text-align: right;\">\n",
       "      <th></th>\n",
       "      <th>review_text</th>\n",
       "      <th>Positivity</th>\n",
       "    </tr>\n",
       "  </thead>\n",
       "  <tbody>\n",
       "    <tr>\n",
       "      <th>0</th>\n",
       "      <td>[a, you, get, older, you, know, what, you, lik...</td>\n",
       "      <td>1</td>\n",
       "    </tr>\n",
       "    <tr>\n",
       "      <th>1</th>\n",
       "      <td>[three, gigantic, marmite, jar, that, will, la...</td>\n",
       "      <td>1</td>\n",
       "    </tr>\n",
       "    <tr>\n",
       "      <th>2</th>\n",
       "      <td>[excellent]</td>\n",
       "      <td>1</td>\n",
       "    </tr>\n",
       "    <tr>\n",
       "      <th>3</th>\n",
       "      <td>[a, great, flavour, top, up, for, slow, cooking]</td>\n",
       "      <td>1</td>\n",
       "    </tr>\n",
       "    <tr>\n",
       "      <th>4</th>\n",
       "      <td>[doe, what, is, say, it, doe]</td>\n",
       "      <td>1</td>\n",
       "    </tr>\n",
       "  </tbody>\n",
       "</table>\n",
       "</div>"
      ],
      "text/plain": [
       "                                         review_text  Positivity\n",
       "0  [a, you, get, older, you, know, what, you, lik...           1\n",
       "1  [three, gigantic, marmite, jar, that, will, la...           1\n",
       "2                                        [excellent]           1\n",
       "3   [a, great, flavour, top, up, for, slow, cooking]           1\n",
       "4                      [doe, what, is, say, it, doe]           1"
      ]
     },
     "execution_count": 17,
     "metadata": {},
     "output_type": "execute_result"
    }
   ],
   "source": [
    "# In this step we would like to conclude the review_rating around Postitive=1 and negative=0 values\n",
    "# We will use these as a classification for our 'review_texts' , more like a feedback from customer !!\n",
    "\n",
    "train_data.dropna(inplace=True)\n",
    "train_data[train_data['review_rating'] != 3]\n",
    "train_data['Positivity'] = np.where(train_data['review_rating'] > 3, 1, 0)\n",
    "cols = ['review_rating']\n",
    "train_data.drop(cols, axis=1, inplace=True)\n",
    "train_data.head()"
   ]
  },
  {
   "cell_type": "code",
   "execution_count": 18,
   "metadata": {},
   "outputs": [],
   "source": [
    "# Just getting a count of Positive and Negative counts\n",
    "# train_data.groupby('Positivity').size()\n",
    "\n",
    "# sns.countplot(x='Positivity', data = train_data, palette = 'hls')"
   ]
  },
  {
   "cell_type": "code",
   "execution_count": 19,
   "metadata": {},
   "outputs": [
    {
     "name": "stderr",
     "output_type": "stream",
     "text": [
      "C:\\Users\\akudnaver\\AppData\\Local\\Continuum\\anaconda3\\lib\\site-packages\\ipykernel_launcher.py:7: SettingWithCopyWarning: \n",
      "A value is trying to be set on a copy of a slice from a DataFrame.\n",
      "Try using .loc[row_indexer,col_indexer] = value instead\n",
      "\n",
      "See the caveats in the documentation: http://pandas.pydata.org/pandas-docs/stable/indexing.html#indexing-view-versus-copy\n",
      "  import sys\n"
     ]
    },
    {
     "data": {
      "text/plain": [
       "0    a you get older you know what you like and wha...\n",
       "1    three gigantic marmite jar that will last prob...\n",
       "2                                            excellent\n",
       "3              a great flavour top up for slow cooking\n",
       "4                               doe what is say it doe\n",
       "Name: review_text, dtype: object"
      ]
     },
     "execution_count": 19,
     "metadata": {},
     "output_type": "execute_result"
    }
   ],
   "source": [
    "# By now we are finished with pre-processing our text_review column \n",
    "# So lets go ahead and extract the X = features and Y target label\n",
    "\n",
    "X = train_data['review_text']\n",
    "Y = train_data['Positivity']\n",
    "\n",
    "train_data['review_text']=[\" \".join(review) for review in train_data['review_text'].values]\n",
    "train_data['review_text'].head()"
   ]
  },
  {
   "cell_type": "code",
   "execution_count": 20,
   "metadata": {},
   "outputs": [],
   "source": [
    "# Here we are splitting the X & Y data with a test size = 20 % \n",
    "\n",
    "X_train, X_test, Y_train, Y_test = train_test_split(X, Y, test_size = 0.2, random_state = 42)"
   ]
  },
  {
   "cell_type": "code",
   "execution_count": 21,
   "metadata": {},
   "outputs": [
    {
     "name": "stdout",
     "output_type": "stream",
     "text": [
      "(2000,) (2000,)\n",
      "(501,) (501,)\n"
     ]
    }
   ],
   "source": [
    "print(X_train.shape,Y_train.shape)\n",
    "print(X_test.shape,Y_test.shape)"
   ]
  },
  {
   "cell_type": "code",
   "execution_count": 22,
   "metadata": {},
   "outputs": [
    {
     "name": "stdout",
     "output_type": "stream",
     "text": [
      "Train set has total 2000 entries with 13.35% negative, 86.65% positive\n",
      "Test set has total 501 entries with 13.37% negative, 86.63% positive\n"
     ]
    }
   ],
   "source": [
    "# This step is to check the ratio of positive to negatives values in our Test and Train Dataset\n",
    "\n",
    "print(\"Train set has total {0} entries with {1:.2f}% negative, {2:.2f}% positive\".format(len(X_train),\n",
    "                                                                             (len(X_train[Y_train == 0]) / (len(X_train)*1.))*100,\n",
    "                                                                        (len(X_train[Y_train == 1]) / (len(X_train)*1.))*100))\n",
    "print(\"Test set has total {0} entries with {1:.2f}% negative, {2:.2f}% positive\".format(len(X_test),\n",
    "                                                                             (len(X_test[Y_test == 0]) / (len(X_test)*1.))*100,\n",
    "                                                                            (len(X_test[Y_test == 1]) / (len(X_test)*1.))*100))"
   ]
  },
  {
   "cell_type": "code",
   "execution_count": 23,
   "metadata": {},
   "outputs": [],
   "source": [
    "# Now it is equally important to check how balanced our Classfication data is w.r.t Positive and Negative rating \n",
    "\n",
    "from sklearn.feature_extraction.text import CountVectorizer\n",
    "from sklearn.ensemble import RandomForestClassifier\n",
    "from sklearn.pipeline import Pipeline\n",
    "from sklearn.metrics import accuracy_score\n",
    "\n",
    "def accuracy_summary(pipeline, X_train, y_train, X_test, y_test):\n",
    "    sentiment_fit = pipeline.fit(X_train, y_train)\n",
    "    y_pred = sentiment_fit.predict(X_test)\n",
    "    accuracy = accuracy_score(y_test, y_pred)\n",
    "    print(\"accuracy score: {0:.2f}%\".format(accuracy*100))\n",
    "    return accuracy"
   ]
  },
  {
   "cell_type": "code",
   "execution_count": 24,
   "metadata": {},
   "outputs": [
    {
     "name": "stdout",
     "output_type": "stream",
     "text": [
      "Result for trigram with stop words (Tfidf)\n",
      "\n",
      "RandomForestClassifier(bootstrap=True, class_weight='balanced',\n",
      "            criterion='gini', max_depth=None, max_features='auto',\n",
      "            max_leaf_nodes=None, min_impurity_decrease=0.0,\n",
      "            min_impurity_split=None, min_samples_leaf=1,\n",
      "            min_samples_split=2, min_weight_fraction_leaf=0.0,\n",
      "            n_estimators=10, n_jobs=1, oob_score=False, random_state=None,\n",
      "            verbose=0, warm_start=False)\n",
      "\n",
      "\n",
      "Test result for 10000 features\n",
      "accuracy score: 91.02%\n",
      "Test result for 15000 features\n",
      "accuracy score: 91.82%\n",
      "Test result for 20000 features\n",
      "accuracy score: 91.82%\n",
      "Test result for 25000 features\n",
      "accuracy score: 91.22%\n"
     ]
    }
   ],
   "source": [
    "# As i was mentioning earlier that choosing the correct number of features plays a vital role in creating a model for \n",
    "# an accurate predictions ,it is a good practice to check the number of features having an impact on \n",
    "# our accuracy score, so we will take advantage of Random Forest to be able to achieve that, so lets begin !!\n",
    "\n",
    "cv = CountVectorizer()\n",
    "rf = RandomForestClassifier(class_weight=\"balanced\")\n",
    "n_features = np.arange(10000,25001,5000)\n",
    "\n",
    "def nfeature_accuracy_checker(vectorizer=cv, n_features=n_features, stop_words=None, ngram_range=(1, 1), classifier=rf):\n",
    "    result = []\n",
    "    print(classifier)\n",
    "    print(\"\\n\")\n",
    "    for n in n_features:\n",
    "        vectorizer.set_params(stop_words=stop_words, max_features=n, ngram_range=ngram_range)\n",
    "        checker_pipeline = Pipeline([('vectorizer', vectorizer),('classifier', classifier)])\n",
    "        print(\"Test result for {} features\".format(n))\n",
    "        nfeature_accuracy = accuracy_summary(checker_pipeline, X_train, Y_train, X_test, Y_test)\n",
    "        result.append((n,nfeature_accuracy))\n",
    "    return result\n",
    "from sklearn.feature_extraction.text import TfidfVectorizer\n",
    "tfidf = TfidfVectorizer()\n",
    "print(\"Result for trigram with stop words (Tfidf)\\n\")\n",
    "feature_result_tgt = nfeature_accuracy_checker(vectorizer=tfidf,ngram_range=(1, 4))"
   ]
  },
  {
   "cell_type": "code",
   "execution_count": 25,
   "metadata": {},
   "outputs": [
    {
     "name": "stdout",
     "output_type": "stream",
     "text": [
      "             precision    recall  f1-score   support\n",
      "\n",
      "   negative       0.94      0.46      0.62        67\n",
      "   positive       0.92      1.00      0.96       434\n",
      "\n",
      "avg / total       0.93      0.92      0.91       501\n",
      "\n"
     ]
    }
   ],
   "source": [
    "# In this step we are checking the classification report across negative and positive rating \n",
    "\n",
    "from sklearn.metrics import classification_report\n",
    "cv = CountVectorizer(max_features=30000,ngram_range=(1, 3))\n",
    "pipeline = Pipeline([('vectorizer', cv),('classifier', rf)])\n",
    "sentiment_fit = pipeline.fit(X_train, Y_train)\n",
    "y_pred = sentiment_fit.predict(X_test)\n",
    "print(classification_report(Y_test, y_pred, target_names=['negative','positive']))\n",
    "# print(cv.get_feature_names())"
   ]
  },
  {
   "cell_type": "code",
   "execution_count": 26,
   "metadata": {
    "scrolled": false
   },
   "outputs": [
    {
     "data": {
      "image/png": "[encoded data removed]",
      "text/plain": [
       "<Figure size 1152x576 with 1 Axes>"
      ]
     },
     "metadata": {},
     "output_type": "display_data"
    }
   ],
   "source": [
    "# Well a chi2 score is always benefinicial to learn the words having less dependencies for hypothesis\n",
    "# and thus can be ignored during the feature selection process, the primary reason for using chi2 sqaure method.\n",
    "\n",
    "from sklearn.feature_selection import chi2\n",
    "tfidf = TfidfVectorizer(max_features=30000,ngram_range=(1, 3))\n",
    "X_tfidf = tfidf.fit_transform(train_data['review_text'])\n",
    "y = train_data['Positivity']\n",
    "chi2score = chi2(X_tfidf, y)[0]\n",
    "plt.figure(figsize=(16,8))\n",
    "scores = list(zip(tfidf.get_feature_names(), chi2score))\n",
    "chi2 = sorted(scores, key=lambda x:x[1])\n",
    "topchi2 = list(zip(*chi2[-20:]))\n",
    "x = range(len(topchi2[1]))\n",
    "labels = topchi2[0]\n",
    "plt.barh(x,topchi2[1], align='center', alpha=0.5)\n",
    "plt.plot(topchi2[1], x, '-o', markersize=5, alpha=0.8)\n",
    "plt.yticks(x, labels)\n",
    "plt.xlabel('$\\chi^2$')\n",
    "plt.show();"
   ]
  },
  {
   "cell_type": "code",
   "execution_count": 27,
   "metadata": {
    "scrolled": true
   },
   "outputs": [
    {
     "name": "stdout",
     "output_type": "stream",
     "text": [
      "(1875, 278) (1875, 2)\n",
      "(626, 278) (626, 2)\n",
      "Found 3889 unique tokens.\n",
      "278\n"
     ]
    },
    {
     "data": {
      "text/plain": [
       "array([[  0,   0,   0, ...,  12,  51, 951],\n",
       "       [  0,   0,   0, ..., 121,  24,   6],\n",
       "       [  0,   0,   0, ...,   0,   0, 180],\n",
       "       ...,\n",
       "       [  0,   0,   0, ...,   9,   2,  79],\n",
       "       [  0,   0,   0, ...,  40,  37, 655],\n",
       "       [  0,   0,   0, ...,  20, 399, 121]])"
      ]
     },
     "execution_count": 27,
     "metadata": {},
     "output_type": "execute_result"
    }
   ],
   "source": [
    "# We need a final pre-paration before we input it to our LSTM Model, which is the next step\n",
    "# we start with setting to text to sequence and pad the sequence for an equal lenght of input data to be fed\n",
    "# to our LSTM model. \n",
    "\n",
    "MAX_NB_WORDS = 50000\n",
    "tokenizer = Tokenizer(num_words=MAX_NB_WORDS, filters='!\"#$%&()*+,-./:;<=>?@[\\]^_`{|}~', lower=True)\n",
    "tokenizer.fit_on_texts(data['review_text'].values)\n",
    "\n",
    "X1 = tokenizer.texts_to_sequences(train_data['review_text'].values)\n",
    "X1 = pad_sequences(X1)\n",
    "Y1 = pd.get_dummies(train_data['Positivity']).values\n",
    "X1_train, X1_test, Y1_train, Y1_test = train_test_split(X1,Y1, random_state = 42)\n",
    "print(X1_train.shape,Y1_train.shape)\n",
    "print(X1_test.shape,Y1_test.shape)\n",
    "# print(Y1)\n",
    "\n",
    "word_index = tokenizer.word_index\n",
    "print('Found %s unique tokens.' % len(word_index))\n",
    "print(X1.shape[1])\n",
    "X1"
   ]
  },
  {
   "cell_type": "code",
   "execution_count": 28,
   "metadata": {},
   "outputs": [
    {
     "name": "stdout",
     "output_type": "stream",
     "text": [
      "_________________________________________________________________\n",
      "Layer (type)                 Output Shape              Param #   \n",
      "=================================================================\n",
      "embedding_1 (Embedding)      (None, 278, 150)          7500000   \n",
      "_________________________________________________________________\n",
      "spatial_dropout1d_1 (Spatial (None, 278, 150)          0         \n",
      "_________________________________________________________________\n",
      "lstm_1 (LSTM)                (None, 200)               280800    \n",
      "_________________________________________________________________\n",
      "dense_1 (Dense)              (None, 2)                 402       \n",
      "=================================================================\n",
      "Total params: 7,781,202\n",
      "Trainable params: 7,781,202\n",
      "Non-trainable params: 0\n",
      "_________________________________________________________________\n"
     ]
    }
   ],
   "source": [
    "# Finally we have arrived at designing our LSTM model\n",
    "\n",
    "# The maximum number of words to be used. (most frequent)\n",
    "MAX_NB_WORDS = 50000\n",
    "# Max number of words in each complaint.\n",
    "MAX_SEQUENCE_LENGTH = 278\n",
    "# This is fixed.\n",
    "EMBEDDING_DIM = 150\n",
    "lstm_out = 200\n",
    "model = Sequential()\n",
    "model.add(Embedding(MAX_NB_WORDS, EMBEDDING_DIM, input_length=X1.shape[1]))\n",
    "model.add(SpatialDropout1D(0.4))\n",
    "model.add(LSTM(lstm_out, dropout=0.2, recurrent_dropout=0.2))\n",
    "model.add(Dense(2,activation='softmax'))\n",
    "model.compile(loss='binary_crossentropy', optimizer='adam', metrics=['accuracy'])\n",
    "model.summary()"
   ]
  },
  {
   "cell_type": "code",
   "execution_count": 29,
   "metadata": {},
   "outputs": [
    {
     "name": "stderr",
     "output_type": "stream",
     "text": [
      "C:\\Users\\akudnaver\\AppData\\Local\\Continuum\\anaconda3\\lib\\site-packages\\keras\\models.py:981: UserWarning: The `nb_epoch` argument in `fit` has been renamed `epochs`.\n",
      "  warnings.warn('The `nb_epoch` argument in `fit` '\n"
     ]
    },
    {
     "name": "stdout",
     "output_type": "stream",
     "text": [
      "Epoch 1/5\n",
      " - 73s - loss: 0.3866 - acc: 0.8587\n",
      "Epoch 2/5\n",
      " - 80s - loss: 0.2533 - acc: 0.9029\n",
      "Epoch 3/5\n",
      " - 67s - loss: 0.1664 - acc: 0.9499\n",
      "Epoch 4/5\n",
      " - 72s - loss: 0.1037 - acc: 0.9664\n",
      "Epoch 5/5\n",
      " - 77s - loss: 0.0765 - acc: 0.9787\n"
     ]
    }
   ],
   "source": [
    "# At this step we set few parameters based our own experience which will come to you overtime.\n",
    "# So basically we setting a batch size for our input data and epoch= for number of iterations our model\n",
    "# has to go through !!!\n",
    "\n",
    "batch_size = 32\n",
    "history = model.fit(X1_train, Y1_train, nb_epoch = 5, batch_size=batch_size, verbose = 2)"
   ]
  },
  {
   "cell_type": "code",
   "execution_count": 30,
   "metadata": {},
   "outputs": [
    {
     "name": "stdout",
     "output_type": "stream",
     "text": [
      "626/626 [==============================] - 6s 9ms/step\n",
      "Test set\n",
      "  Loss: 0.299\n",
      "  Accuracy: 0.912\n"
     ]
    }
   ],
   "source": [
    "accuracy = model.evaluate(X1_test, Y1_test)\n",
    "print('Test set\\n  Loss: {:0.3f}\\n  Accuracy: {:0.3f}'.format(accuracy[0],accuracy[1]))"
   ]
  },
  {
   "cell_type": "code",
   "execution_count": 31,
   "metadata": {},
   "outputs": [
    {
     "name": "stdout",
     "output_type": "stream",
     "text": [
      "dict_keys(['loss', 'acc'])\n"
     ]
    }
   ],
   "source": [
    "# from keras.callbacks import History \n",
    "# history = History()\n",
    "# history.model\n",
    "print(history.history.keys())"
   ]
  },
  {
   "cell_type": "code",
   "execution_count": 32,
   "metadata": {},
   "outputs": [
    {
     "data": {
      "image/png": "[encoded data removed]",
      "text/plain": [
       "<Figure size 432x288 with 1 Axes>"
      ]
     },
     "metadata": {},
     "output_type": "display_data"
    }
   ],
   "source": [
    "# Finally, we can see that the validation loss and validation accuracy both are in sync with the training loss and \n",
    "# accuracy .Even though the validation loss and accuracy line are not linear, but it shows that your model is not \n",
    "# overfitting: the validation loss is decreasing and not increasing, and there is not much gap between training \n",
    "# and validation accuracy.\n",
    "\n",
    "plt.title('Plot of Accuracy of the Model')\n",
    "plt.plot(history.history['acc'], label='validation_accuracy')\n",
    "plt.plot(history.history['loss'], label='validation_loss')\n",
    "plt.legend()\n",
    "plt.tight_layout()\n",
    "plt.show()"
   ]
  },
  {
   "cell_type": "code",
   "execution_count": 33,
   "metadata": {},
   "outputs": [
    {
     "name": "stdout",
     "output_type": "stream",
     "text": [
      "pos_acc 99.25512104283054 %\n",
      "neg_acc 42.69662921348314 %\n"
     ]
    }
   ],
   "source": [
    "# Lets find the percentage of Positive & Negative reviews with our existing LSTM model . \n",
    "\n",
    "pos_cnt, neg_cnt, pos_correct, neg_correct = 0, 0, 0, 0\n",
    "for x in range(len(X1_test)):\n",
    "    \n",
    "    result = model.predict(X1_test[x].reshape(1,X1_test.shape[1]),batch_size=1,verbose = 2)\n",
    "   \n",
    "    if np.argmax(result) == np.argmax(Y1_test[x]):\n",
    "        if np.argmax(Y1_test[x]) == 0:\n",
    "            neg_correct += 1\n",
    "        else:\n",
    "            pos_correct += 1\n",
    "       \n",
    "    if np.argmax(Y1_test[x]) == 0:\n",
    "        neg_cnt += 1\n",
    "    else:\n",
    "        pos_cnt += 1\n",
    "\n",
    "predicted_classes = model.predict(X1_test)\n",
    "# predicted_classes = np.argmax(np.round(predicted_classes),axis=1)\n",
    "# predicted_classes.shape, X1_test.shape\n",
    "print(\"pos_acc\", pos_correct/pos_cnt*100, \"%\")\n",
    "print(\"neg_acc\", neg_correct/neg_cnt*100, \"%\")\n",
    "# pos_acc 90.67439409905164 %\n",
    "# neg_acc 63.2890365448505 %"
   ]
  },
  {
   "cell_type": "code",
   "execution_count": 34,
   "metadata": {},
   "outputs": [],
   "source": [
    "# predicted_classes = model.predict(X1_test)\n",
    "# predicted_classes = np.argmax(np.round(predicted_classes),axis=1)\n",
    "# predicted_classes.shape, X1_test.shape"
   ]
  },
  {
   "cell_type": "code",
   "execution_count": 35,
   "metadata": {},
   "outputs": [
    {
     "name": "stdout",
     "output_type": "stream",
     "text": [
      "[[159, 368, 2, 148, 18, 3, 16, 268, 991]]\n",
      "Positive\n",
      "[[0.13992986 0.8600701 ]]\n"
     ]
    }
   ],
   "source": [
    "# Okay so far we have finished creating an LSTM model for our review_text analysis.\n",
    "# Now lets see how efficient our model is to make prediction on the raw data, which may not\n",
    "# be in the dataset . Excited me too , finger crossed :)\n",
    "\n",
    "# Test case 1: Checking Positive reviews\n",
    "\n",
    "new_review = ['by far the best product i have come across']\n",
    "seq = tokenizer.texts_to_sequences(new_review)\n",
    "print(seq)\n",
    "padded = pad_sequences(seq, maxlen=MAX_SEQUENCE_LENGTH)\n",
    "pred = model.predict(padded)\n",
    "# labels = ['Positive', 'Negative']\n",
    "labels = {0: 'Negative', 1: 'Positive'}\n",
    "# # labels = ['Credit reporting, credit repair services, or other personal consumer reports', 'Debt collection', 'Mortgage', 'Credit card or prepaid card', 'Student loan', 'Bank account or service', 'Checking or savings account', 'Consumer Loan', 'Payday loan, title loan, or personal loan', 'Vehicle loan or lease', 'Money transfer, virtual currency, or money service', 'Money transfers', 'Prepaid card']\n",
    "print(labels[np.argmax(pred)])\n",
    "print(pred)"
   ]
  },
  {
   "cell_type": "code",
   "execution_count": 36,
   "metadata": {},
   "outputs": [
    {
     "name": "stdout",
     "output_type": "stream",
     "text": [
      "[[159, 368, 2, 1869, 18, 3, 16, 268, 991]]\n",
      "Negative\n",
      "[[0.7946179  0.20538211]]\n"
     ]
    }
   ],
   "source": [
    "# Okay so far we have finished creating an LSTM model for our review_text analysis.\n",
    "# Now lets see how efficient our model is to make prediction on the raw text, which may not\n",
    "# be in the dataset . Excited me too , finger crossed :)\n",
    "\n",
    "# Test case 1: Checking negative reviews\n",
    "\n",
    "new_review = ['by far the worst product i have come across']\n",
    "seq = tokenizer.texts_to_sequences(new_review)\n",
    "print(seq)\n",
    "padded = pad_sequences(seq, maxlen=MAX_SEQUENCE_LENGTH)\n",
    "pred = model.predict(padded)\n",
    "# labels = ['Positive', 'Negative']\n",
    "labels = {0: 'Negative', 1: 'Positive'}\n",
    "# # labels = ['Credit reporting, credit repair services, or other personal consumer reports', 'Debt collection', 'Mortgage', 'Credit card or prepaid card', 'Student loan', 'Bank account or service', 'Checking or savings account', 'Consumer Loan', 'Payday loan, title loan, or personal loan', 'Vehicle loan or lease', 'Money transfer, virtual currency, or money service', 'Money transfers', 'Prepaid card']\n",
    "print(labels[np.argmax(pred)])\n",
    "print(pred)"
   ]
  },
  {
   "cell_type": "code",
   "execution_count": null,
   "metadata": {},
   "outputs": [],
   "source": []
  }
 ],
 "metadata": {
  "kernelspec": {
   "display_name": "Python 3",
   "language": "python",
   "name": "python3"
  },
  "language_info": {
   "codemirror_mode": {
    "name": "ipython",
    "version": 3
   },
   "file_extension": ".py",
   "mimetype": "text/x-python",
   "name": "python",
   "nbconvert_exporter": "python",
   "pygments_lexer": "ipython3",
   "version": "3.6.5"
  }
 },
 "nbformat": 4,
 "nbformat_minor": 2
}